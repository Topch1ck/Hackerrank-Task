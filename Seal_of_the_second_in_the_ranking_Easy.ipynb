{
 "cells": [
  {
   "cell_type": "code",
   "execution_count": null,
   "metadata": {},
   "outputs": [],
   "source": []
  },
  {
   "cell_type": "markdown",
   "metadata": {},
   "source": [
    "Given the names and grades for each student in a class of N students, store them in a nested list and print the name(s) of any student(s) having the second lowest grade.\n",
    "Note: If there are multiple students with the second lowest grade, order their names alphabetically and print each name on a new line.\n",
    "\n",
    "Example\n",
    "records = [[\"chi”, 20.0], [\"beta\", 50.0], [\"alpha\", 50.0]]\n",
    "The ordered list of scores is [20.0, 50.0], so the second lowest score is 50.0. There are two students with that score:[\"beta\", \"alpha\"]. Ordered alphabetically, the names are printed as:\n",
    "\n",
    "alpha \n",
    "\n",
    "beta\n",
    "\n",
    "Input Format\n",
    "The first line contains an integer, N, the number of students.\n",
    "The 2N subsequent lines describe each student over 2 lines.\n",
    "-The first line contains a student's name.\n",
    "-The second line contains their grade.\n",
    "\n",
    "Constraints\n",
    "\n",
    "• 2 ≤ N ≤5\n",
    "\n",
    "• There will always be one or more students having the second lowest grade.\n",
    "\n",
    "Output Format\n",
    "Print the name(s) of any student(s) having the second lowest grade in. \n",
    "If there are multiple students, order their names alphabetically and print each one on a new line.\n",
    "\n",
    "Sample Input 0\n",
    "5\n",
    "Harry\n",
    "37.21\n",
    "Berry\n",
    "37.21\n",
    "Tina\n",
    "37.2\n",
    "Akriti\n",
    "41\n",
    "Harsh\n",
    "39\n",
    "\n",
    "Sample Output 0\n",
    "\n",
    "Berry\n",
    "Harry\n"
   ]
  },
  {
   "cell_type": "code",
   "execution_count": null,
   "metadata": {},
   "outputs": [],
   "source": [
    "d = []\n",
    "for _ in range(int(input())):\n",
    "    name = input()\n",
    "    score = float(input())\n",
    "    l = [name, score]\n",
    "    d.append(l)\n",
    "d = sorted(d, key=lambda dd: dd[1])\n",
    "while d[0][1]==d[1][1]:\n",
    "    d.remove(d[0])\n",
    "if len(d) <= 2:\n",
    "    print(d[1][0])\n",
    "elif d[1][1]==d[2][1]:\n",
    "    name = [i[0] for i in d[1:3]]\n",
    "    for i in sorted(name):\n",
    "        print(i)\n",
    "else:\n",
    "    print(d[1][0])"
   ]
  }
 ],
 "metadata": {
  "language_info": {
   "name": "python"
  }
 },
 "nbformat": 4,
 "nbformat_minor": 2
}
